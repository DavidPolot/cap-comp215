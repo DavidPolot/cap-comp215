{
  "cells": [
    {
      "cell_type": "markdown",
      "source": [
        "COMP 215 - LAB 4 (Graphs)\n",
        "-------------------------\n",
        "#### Name:\n",
        "#### Date:\n",
        "\n",
        "This lab exercise is an introduction to Graphs and Graph Analysis using [NetworkX](https://networkx.org/documentation/stable/).\n",
        "\n",
        "**New Python concepts**:\n",
        "  * **NetworkX** is an open-source package.  It provides a `Graph` object to represent a graph.\n",
        "  * Built-in `random` module provides algorithms for generating pseudo-random sequences\n",
        "  * [Generator expression](https://towardsdatascience.com/understanding-generator-expressions-in-python-fe0c4534619) - similar to a list comprehension, but faster and using much less memory!\n",
        "\n",
        "**Credits**:\n",
        "    Code examples based on [Think Complexity, 2nd edition](https://thinkcomplex.com).\n",
        "    Copyright 2016 Allen Downey, [MIT License](http://opensource.org/licenses/MIT)\n",
        "\n",
        "As usual, the first code cell simply imports all the modules we'll be using..."
      ],
      "metadata": {
        "collapsed": false,
        "pycharm": {
          "name": "#%% md\n"
        },
        "id": "N_e-9-SLNU96"
      }
    },
    {
      "cell_type": "code",
      "execution_count": 4,
      "outputs": [],
      "source": [
        "%matplotlib inline\n",
        "\n",
        "import math\n",
        "import random\n",
        "from timeit import timeit\n",
        "\n",
        "import matplotlib.pyplot as plt\n",
        "import networkx as nx"
      ],
      "metadata": {
        "pycharm": {
          "name": "#%%\n"
        },
        "ExecuteTime": {
          "end_time": "2024-01-02T02:05:15.521510Z",
          "start_time": "2024-01-02T02:05:15.485194Z"
        },
        "id": "CEDvYgUXNU97"
      }
    },
    {
      "cell_type": "markdown",
      "source": [
        "## ER Graph algorithms.\n",
        "\n",
        "from the textbook...\n",
        "> One of the more interesting \\[random graphs\\] is the Erdős-Rényi model, studied by Paul Erdős and Alfréd Rényi in the 1960s.\n",
        "\n",
        "> An Erdős-Rényi graph (ER graph) is characterized by two parameters: $n$ is the number of nodes and $p$ is the probability that there is an edge between any two nodes.\n",
        "\n",
        "> Erdős and Rényi studied the properties of these random graphs; one of their surprising results is the existence of abrupt changes in the properties of random graphs as random edges are added.\n",
        "\n",
        "In this lab we will work towards re-producing this famous computational experiment.\n",
        "\n",
        "We can start will all the code we developed in class.\n",
        "Review development of these algorithms in teh `week04-graphs` workbook."
      ],
      "metadata": {
        "collapsed": false,
        "id": "xVlUMTW7NU98"
      }
    },
    {
      "cell_type": "markdown",
      "source": [
        "We `seed` Python's built-in random number generator so we get the same sequence each time (to facilitate debugging and comprehension!)  Comment this out and re-run the notebook when you are ready to run experiments."
      ],
      "metadata": {
        "collapsed": false,
        "pycharm": {
          "name": "#%% md\n"
        },
        "id": "7jVI8_xENU99"
      }
    },
    {
      "cell_type": "code",
      "execution_count": 5,
      "outputs": [],
      "source": [
        "random.seed(6) # Comment this out to run randomized experiments"
      ],
      "metadata": {
        "pycharm": {
          "name": "#%%\n"
        },
        "ExecuteTime": {
          "end_time": "2024-01-02T02:05:15.524052Z",
          "start_time": "2024-01-02T02:05:15.516067Z"
        },
        "id": "7zqGTd3XNU99"
      }
    },
    {
      "cell_type": "code",
      "execution_count": 6,
      "outputs": [],
      "source": [
        "def all_pairs(objects):\n",
        "    \"\"\" Return a generator with the complete set of distinct object pairs, as 2-tuples, from the given iterable of objects \"\"\"\n",
        "    return ((a, b) for i in range(1, len(objects)) for a,b in zip(objects, objects[i:]))\n",
        "\n",
        "# unit tests\n",
        "assert set( all_pairs(('w', 'x', 'y', 'z')) ) == {('w', 'x'), ('x', 'y'), ('y', 'z'), ('w', 'y'), ('x', 'z'), ('w', 'z')}"
      ],
      "metadata": {
        "pycharm": {
          "name": "#%%\n"
        },
        "ExecuteTime": {
          "end_time": "2024-01-02T02:05:15.537795Z",
          "start_time": "2024-01-02T02:05:15.527284Z"
        },
        "id": "KUnXA6LmNU99"
      }
    },
    {
      "cell_type": "code",
      "execution_count": 7,
      "outputs": [],
      "source": [
        "def coin_toss(p=0.5):\n",
        "    \"\"\" Simulate flipping a biased \"coin\", where the probability of 'heads' is p.  Return True iff 'heads', False otherwise \"\"\"\n",
        "    return random.random() < p"
      ],
      "metadata": {
        "pycharm": {
          "name": "#%%\n"
        },
        "ExecuteTime": {
          "end_time": "2024-01-02T02:05:15.538072Z",
          "start_time": "2024-01-02T02:05:15.530410Z"
        },
        "id": "35lhvNcUNU9-"
      }
    },
    {
      "cell_type": "code",
      "execution_count": 8,
      "outputs": [
        {
          "output_type": "execute_result",
          "data": {
            "text/plain": [
              "[('y', 'z'), ('w', 'y'), ('x', 'z')]"
            ]
          },
          "metadata": {},
          "execution_count": 8
        }
      ],
      "source": [
        "def random_pairs(objects, p=0.5):\n",
        "    \"\"\" Return a generator of random subset of distinct object pairs (2-tuples), each with a probability of `p` \"\"\"\n",
        "    return (pair for pair in all_pairs(objects) if coin_toss(p))  # \"flip a coin\" to determine whether a given pair is included.\n",
        "\n",
        "# Notice: no way to automate tests for random functions because they produce \"side-effects\" !!!\n",
        "list( random_pairs(('w', 'x', 'y', 'z'), p=0.5) )"
      ],
      "metadata": {
        "pycharm": {
          "name": "#%%\n"
        },
        "ExecuteTime": {
          "end_time": "2024-01-02T02:05:15.546417Z",
          "start_time": "2024-01-02T02:05:15.534324Z"
        },
        "id": "jELKmiD0NU9-",
        "outputId": "17078947-7b76-473b-e627-d577c6853c0a",
        "colab": {
          "base_uri": "https://localhost:8080/"
        }
      }
    },
    {
      "cell_type": "code",
      "execution_count": 9,
      "outputs": [],
      "source": [
        "def make_random_graph(n, p):\n",
        "    \"\"\" Return an ER Graph with n nodes, where the probability of an edge between a pair of nodes in p \"\"\"\n",
        "    graph = nx.Graph()\n",
        "    labels = range(n)\n",
        "    graph.add_nodes_from(labels)\n",
        "    graph.add_edges_from(random_pairs(labels, p))\n",
        "    return graph"
      ],
      "metadata": {
        "pycharm": {
          "name": "#%%\n"
        },
        "ExecuteTime": {
          "end_time": "2024-01-02T02:05:15.548485Z",
          "start_time": "2024-01-02T02:05:15.539742Z"
        },
        "id": "Z0wyyhfPNU9-"
      }
    },
    {
      "cell_type": "code",
      "execution_count": 10,
      "outputs": [
        {
          "output_type": "display_data",
          "data": {
            "text/plain": [
              "<Figure size 640x480 with 1 Axes>"
            ],
            "image/png": "[encoded data removed]"
          },
          "metadata": {}
        }
      ],
      "source": [
        "N = 10\n",
        "p = 0.2\n",
        "\n",
        "random_graph = make_random_graph(N, p)\n",
        "\n",
        "nx.draw_circular(random_graph,\n",
        "                 node_color='#ff99dd',\n",
        "                 node_size=1000,\n",
        "                 with_labels=True)\n",
        "plt.gca().set(\n",
        "    title=f'Random Graph has {random_graph.number_of_nodes()} nodes and {random_graph.number_of_edges()} edges'\n",
        ")\n",
        "plt.show()"
      ],
      "metadata": {
        "pycharm": {
          "name": "#%%\n"
        },
        "ExecuteTime": {
          "end_time": "2024-01-02T02:05:15.637670Z",
          "start_time": "2024-01-02T02:05:15.553915Z"
        },
        "id": "3k_b6Gy_NU9_",
        "outputId": "5d507ccd-c324-4d83-d3e7-41488461e8e0",
        "colab": {
          "base_uri": "https://localhost:8080/",
          "height": 539
        }
      }
    },
    {
      "cell_type": "code",
      "execution_count": 11,
      "outputs": [],
      "source": [
        "def reachable_nodes(graph, start):\n",
        "    \"\"\" return the set of nodes that are reachable from the given start node\"\"\"\n",
        "    seen = set()\n",
        "    stack = [start]\n",
        "    while stack:\n",
        "        node = stack.pop()\n",
        "        if node not in seen:\n",
        "            seen.add(node)\n",
        "            stack.extend(graph.neighbors(node))\n",
        "    return seen"
      ],
      "metadata": {
        "pycharm": {
          "name": "#%%\n"
        },
        "ExecuteTime": {
          "end_time": "2024-01-02T02:05:15.649083Z",
          "start_time": "2024-01-02T02:05:15.640811Z"
        },
        "id": "KBQejd5cNU9_"
      }
    },
    {
      "cell_type": "code",
      "execution_count": 12,
      "outputs": [],
      "source": [
        "def is_connected(graph):\n",
        "    \"\"\" Return True if the graph is connected, false otherwise. \"\"\"\n",
        "    start = next(iter(graph))   # grab the first node in the graph.  This statement will need some further explanation.\n",
        "    reachable = reachable_nodes(graph, start)\n",
        "    return len(reachable) == len(graph)"
      ],
      "metadata": {
        "pycharm": {
          "name": "#%%\n"
        },
        "ExecuteTime": {
          "end_time": "2024-01-02T02:05:15.649430Z",
          "start_time": "2024-01-02T02:05:15.646354Z"
        },
        "id": "oWFTdNhkNU-A"
      }
    },
    {
      "cell_type": "code",
      "execution_count": 13,
      "outputs": [
        {
          "output_type": "execute_result",
          "data": {
            "text/plain": [
              "False"
            ]
          },
          "metadata": {},
          "execution_count": 13
        }
      ],
      "source": [
        "is_connected(random_graph)"
      ],
      "metadata": {
        "pycharm": {
          "name": "#%%\n"
        },
        "ExecuteTime": {
          "end_time": "2024-01-02T02:05:15.777158Z",
          "start_time": "2024-01-02T02:05:15.650682Z"
        },
        "id": "v-oq4ryqNU-A",
        "outputId": "1e8148d4-5217-4f84-9881-e9833c5e8ebc",
        "colab": {
          "base_uri": "https://localhost:8080/"
        }
      }
    },
    {
      "cell_type": "markdown",
      "source": [
        "## Lab Exercises\n",
        "\n",
        "### Exercise 1\n",
        "Use `timeit` to run an experiment that times the `reachable_nodes` algorithm.\n",
        "Once you understand how `timeit` works, design a small experiment to time the `reachable_nodes` algorithm for a range of graph sizes (`n`)\n",
        "Plot the results of your experiment, where x = graph size (`n`) and y = avg. execution time in seconds"
      ],
      "metadata": {
        "collapsed": false,
        "pycharm": {
          "name": "#%% md\n"
        },
        "id": "D2O24BEMNU-B"
      }
    },
    {
      "cell_type": "code",
      "execution_count": 14,
      "outputs": [
        {
          "output_type": "execute_result",
          "data": {
            "text/plain": [
              "'Avg. time to execute: 0.003117516999992631 seconds'"
            ],
            "application/vnd.google.colaboratory.intrinsic+json": {
              "type": "string"
            }
          },
          "metadata": {},
          "execution_count": 14
        }
      ],
      "source": [
        "# here's an example of how to use timeit:\n",
        "N = 100\n",
        "p = 1\n",
        "g = make_random_graph(N, p)  # when p=1, this is a complete graph!\n",
        "seconds = timeit(lambda: reachable_nodes( g,  0),  number=3)\n",
        "f'Avg. time to execute: {seconds} seconds'"
      ],
      "metadata": {
        "pycharm": {
          "name": "#%%\n"
        },
        "ExecuteTime": {
          "end_time": "2024-01-02T02:05:15.778576Z",
          "start_time": "2024-01-02T02:05:15.743374Z"
        },
        "id": "O1P2owl9NU-B",
        "outputId": "927eb105-1761-42cb-ba50-2e3d1cda7cd1",
        "colab": {
          "base_uri": "https://localhost:8080/",
          "height": 36
        }
      }
    },
    {
      "cell_type": "code",
      "execution_count": 15,
      "outputs": [
        {
          "output_type": "display_data",
          "data": {
            "text/plain": [
              "<Figure size 640x480 with 1 Axes>"
            ],
            "image/png": "[encoded data removed]"
          },
          "metadata": {}
        }
      ],
      "source": [
        "\n",
        "\n",
        "\n",
        "g = make_random_graph(N, p)  # when p=1, this is a complete graph!\n",
        "seconds = timeit(lambda: reachable_nodes( g,  0),  number=3)\n",
        "f'Avg. time to execute: {seconds} seconds'\n",
        "\n",
        "nodes = range(1, 125 , 20)\n",
        "\n",
        "empty = []\n",
        "\n",
        "for x in nodes:\n",
        "  g = make_random_graph(x, 0.3)\n",
        "  seconds = timeit(lambda: reachable_nodes( g,  0),  number=3)\n",
        "  timing = seconds/3\n",
        "  empty.append(timing)\n",
        "\n",
        "plt.plot(nodes,empty)\n",
        "plt.xlabel(\"graph size\")\n",
        "plt.ylabel(\"execution\")\n",
        "plt.show()\n",
        "\n",
        "\n",
        "\n",
        "\n",
        "\n",
        "\n"
      ],
      "metadata": {
        "ExecuteTime": {
          "end_time": "2024-01-02T02:05:15.778899Z",
          "start_time": "2024-01-02T02:05:15.743572Z"
        },
        "id": "ooOdUUktNU-B",
        "outputId": "46651ae5-776e-4740-88fd-51126ef119bb",
        "colab": {
          "base_uri": "https://localhost:8080/",
          "height": 449
        }
      }
    },
    {
      "cell_type": "markdown",
      "source": [
        "### Exercise 2:\n",
        "What is the **Big-O time complexity** of the `reachable_nodes` algorithm?"
      ],
      "metadata": {
        "collapsed": false,
        "id": "37rwJDLENU-B"
      }
    },
    {
      "cell_type": "markdown",
      "source": [
        "#### Ex. 2 Your Answer:\n",
        "\n",
        "the big-0 time complexity is a graph of n**2, although, it may have some sort of random variability between the values.\n",
        "\n",
        "general shape will take up a parabola that does not go into the -x values\n",
        "domain (0,infinity)\n",
        "\n",
        "On^2"
      ],
      "metadata": {
        "collapsed": false,
        "id": "2NAJcKIQNU-B"
      }
    },
    {
      "cell_type": "markdown",
      "source": [
        "## Likelihood of connectivity\n",
        "\n",
        "We are ready to replicate Erdős and Rényi's computational experiment.\n",
        "In this experiment, we estimate the likelihood that a randomly-generated ER graph is connected.\n",
        "\n",
        "Like most computational experiments, we simple \"brute force\" the solution - create a big pile of ER graphs, and simply count up how many of them are connected.\n",
        "\n",
        "### Exercise 3:\n",
        "Write a function that runs one ER experiment for a given value of $n$ and $p$.\n",
        "\n",
        "The function generates `n_trials` (number of trials) graphs and returns the proportion of them that are connected."
      ],
      "metadata": {
        "collapsed": false,
        "pycharm": {
          "name": "#%% md\n"
        },
        "id": "EjERcPcLNU-B"
      }
    },
    {
      "cell_type": "code",
      "execution_count": 24,
      "outputs": [
        {
          "output_type": "execute_result",
          "data": {
            "text/plain": [
              "'Likelihood that an ER graph (n=30, p=0.1) is connected: 24.0%'"
            ],
            "application/vnd.google.colaboratory.intrinsic+json": {
              "type": "string"
            }
          },
          "metadata": {},
          "execution_count": 24
        }
      ],
      "source": [
        "def proportion_connected(n, p, n_trials=100):\n",
        "    \"\"\" Return the proportion of random ER Graphs (n, p) that are connected out of n trials. \"\"\"\n",
        "#1. create a list of the trials of graphs\n",
        "\n",
        "#2. go across the list to see which ones are connected\n",
        "\n",
        "#3. add the connected graphs together and create a probability\n",
        "\n",
        "#I went back to previous lab for a list comprehension technique\n",
        "\n",
        "    trials = [make_random_graph(n, p) for i in range(n_trials)]\n",
        "    #creates the list of the trials of the graphs that would then be calculated\n",
        "\n",
        "    count_connected = sum(is_connected(trial) for trial in trials)\n",
        "    #goes across the list and adds for any connected trial for the list\n",
        "\n",
        "    return count_connected / n_trials\n",
        "\n",
        "\n",
        "\n",
        "\n",
        "\n",
        "\n",
        "\n",
        "\n",
        "\n",
        "\n",
        "n = 30\n",
        "p = 0.1\n",
        "p_connected = proportion_connected(n, p)*100\n",
        "f'Likelihood that an ER graph (n={n}, p={p}) is connected: {p_connected:.1f}%'"
      ],
      "metadata": {
        "pycharm": {
          "name": "#%%\n"
        },
        "ExecuteTime": {
          "end_time": "2024-01-02T02:05:15.779256Z",
          "start_time": "2024-01-02T02:05:15.743633Z"
        },
        "id": "YrYcEdjcNU-C",
        "outputId": "23252322-c062-4117-b66c-d70c5aa9b70f",
        "colab": {
          "base_uri": "https://localhost:8080/",
          "height": 36
        }
      }
    },
    {
      "cell_type": "markdown",
      "source": [
        "### Exercise 4:\n",
        "Use `timeit` to determine how much time each experimental run is consuming.  \n",
        "Plot the results of your experiment, where x = number of trials (`n_trials`) and y = avg. execution time in seconds"
      ],
      "metadata": {
        "collapsed": false,
        "id": "CZNGFgaQNU-C"
      }
    },
    {
      "cell_type": "code",
      "execution_count": null,
      "outputs": [],
      "source": [
        "# Solution for Ex. 4 here..."
      ],
      "metadata": {
        "ExecuteTime": {
          "end_time": "2024-01-02T02:05:15.779544Z",
          "start_time": "2024-01-02T02:05:15.743701Z"
        },
        "id": "WBX4mbq_NU-C"
      }
    },
    {
      "cell_type": "markdown",
      "source": [
        "### Exercise 5:\n",
        "Our experimental results are more accurate (i.e., show less variation between runs) when we use large values for `n` and `n_trials`.  But we've seen that large values for these 2 inputs can cause serious performance issues.\n",
        "\n",
        "What are reasonable value for `n` and `n_trials` to use in the experimental setup below?"
      ],
      "metadata": {
        "collapsed": false,
        "id": "RT8rsLGFNU-C"
      }
    },
    {
      "cell_type": "markdown",
      "source": [
        "#### Your Answer:\n"
      ],
      "metadata": {
        "collapsed": false,
        "id": "dsOJ6BnLNU-C"
      }
    },
    {
      "cell_type": "markdown",
      "source": [
        "## Critical Value of $p$\n",
        "\n",
        "Near a \"critical value\" of $p$, the likelihood of a random graph being connected rapidly changes from near 0 to near 1.\n",
        "Erdős and Rényi predict the critical value should be:  $ln(n) / n$\n",
        "For example..."
      ],
      "metadata": {
        "collapsed": false,
        "pycharm": {
          "name": "#%% md\n"
        },
        "id": "COtbhhaENU-C"
      }
    },
    {
      "cell_type": "code",
      "execution_count": null,
      "outputs": [],
      "source": [
        "n = 30\n",
        "f'Erdős and Rényi predict the critical value of p for graphs of size {n} = {math.log(n) / n:0.3f}'"
      ],
      "metadata": {
        "pycharm": {
          "name": "#%%\n"
        },
        "ExecuteTime": {
          "end_time": "2024-01-02T02:05:15.779891Z",
          "start_time": "2024-01-02T02:05:15.743750Z"
        },
        "id": "SqBnOSlZNU-C"
      }
    },
    {
      "cell_type": "markdown",
      "source": [
        "### Exercise 6:\n",
        "Develop an experiment using `proportion_connected` that runs trials over a range of values for $p$.\n",
        "The goal of this experiment is to identify the \"critical value\" of $p$ for graphs of size $n$.\n",
        "\n",
        "You can conduct this experiment by hand by manually running the code above with different input values and record your results in Ex. 7, ... or\n",
        "\n",
        "#### Challenge - Take your skills to the next level...\n",
        "Develop the experimental setup in code to run all trials over a range of values for $p$ and then plot the results of your experiment, where x = value of `p` and y = proportion connection in the experimental run"
      ],
      "metadata": {
        "collapsed": false,
        "pycharm": {
          "name": "#%% md\n"
        },
        "id": "1o-oqbO9NU-C"
      }
    },
    {
      "cell_type": "code",
      "execution_count": null,
      "outputs": [],
      "source": [
        "# Ex. 6 (challenge) your code here...\n"
      ],
      "metadata": {
        "pycharm": {
          "name": "#%%\n"
        },
        "ExecuteTime": {
          "end_time": "2024-01-02T02:06:39.600304Z",
          "start_time": "2024-01-02T02:06:39.587196Z"
        },
        "id": "0JrgjX71NU-D"
      }
    },
    {
      "cell_type": "markdown",
      "source": [
        "### Exercise 7:\n",
        "Does your experiment confirm or refute Erdős and Rényi's results?\n",
        "\n",
        "What real-world applications / implications might this understanding of graph connectivity have?"
      ],
      "metadata": {
        "collapsed": false,
        "id": "aWue5A1zNU-D"
      }
    },
    {
      "cell_type": "markdown",
      "source": [
        "#### Ex. 7 Your Answer:\n"
      ],
      "metadata": {
        "collapsed": false,
        "id": "cK4J6GnmNU-D"
      }
    }
  ],
  "metadata": {
    "kernelspec": {
      "display_name": "Python 3",
      "language": "python",
      "name": "python3"
    },
    "language_info": {
      "codemirror_mode": {
        "name": "ipython",
        "version": 2
      },
      "file_extension": ".py",
      "mimetype": "text/x-python",
      "name": "python",
      "nbconvert_exporter": "python",
      "pygments_lexer": "ipython2",
      "version": "2.7.6"
    },
    "colab": {
      "provenance": []
    }
  },
  "nbformat": 4,
  "nbformat_minor": 0
}