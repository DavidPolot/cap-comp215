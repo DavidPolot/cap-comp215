{
  "cells": [
    {
      "cell_type": "markdown",
      "source": [
        "# Python Foundations:  new syntax for maps and sequences\n",
        "New Python syntax / concepts for working more effectively with python's built-in map type, `dict`,\n",
        " and linear sequence types, `str`, `tuple`, and `list`\n",
        "\n",
        "Foundations notebook available on Github from the powderflask/cap-comp215 repository.\n",
        "As usual, the first code block just imports the modules we will use."
      ],
      "metadata": {
        "collapsed": false,
        "id": "aa9Eo0dJ5GEz"
      }
    },
    {
      "cell_type": "code",
      "execution_count": null,
      "metadata": {
        "collapsed": true,
        "ExecuteTime": {
          "end_time": "2023-12-26T03:14:36.893294Z",
          "start_time": "2023-12-26T03:14:36.883619Z"
        },
        "id": "3nRMGhTT5GE1"
      },
      "outputs": [],
      "source": [
        "from pprint import pprint"
      ]
    },
    {
      "cell_type": "markdown",
      "source": [
        "## New Python Syntax: dictionary constructor\n",
        "Often constructing a dictionary using keyword arguments makes for more readable code..."
      ],
      "metadata": {
        "collapsed": false,
        "pycharm": {
          "name": "#%% md\n"
        },
        "id": "9YtGTTWt5GE2"
      }
    },
    {
      "cell_type": "code",
      "execution_count": null,
      "outputs": [
        {
          "data": {
            "text/plain": "({'a': 1, 'b': 2, 'c': 3}, {'a': 1, 'b': 2, 'c': 3})"
          },
          "execution_count": 27,
          "metadata": {},
          "output_type": "execute_result"
        }
      ],
      "source": [
        "d1 = {\n",
        "    'a' : 1,\n",
        "    'b' : 2,\n",
        "    'c' : 3,\n",
        "}\n",
        "# vs.\n",
        "d2 = dict(a=1, b=2, c=3)   # only works if dictionary keys are valid python identifiers.\n",
        "\n",
        "assert d1 == d2\n",
        "\n",
        "d1, d2"
      ],
      "metadata": {
        "pycharm": {
          "name": "#%%\n"
        },
        "ExecuteTime": {
          "end_time": "2023-12-26T03:14:36.893606Z",
          "start_time": "2023-12-26T03:14:36.887984Z"
        },
        "id": "aOWtOTq-5GE2",
        "outputId": "a0c8c2c4-37e8-413d-eeec-6fd842bf5ac6"
      }
    },
    {
      "cell_type": "markdown",
      "source": [
        "## New Python Syntax: tuple unpacking\n",
        "\n",
        "Sequences can be \"unpacked\" in various useful ways.  \n",
        "Here we'll demonstrate using `tuples` but these techniques work with any sequence type..."
      ],
      "metadata": {
        "collapsed": false,
        "id": "1Xryk_KR5GE2"
      }
    },
    {
      "cell_type": "code",
      "source": [
        "t = (1,2,3)\n",
        "x,y,z = t\n",
        "y"
      ],
      "metadata": {
        "id": "wQLEbTjb5lts",
        "outputId": "52e9a813-bd7d-491a-8695-7abdc9d8cfe6",
        "colab": {
          "base_uri": "https://localhost:8080/"
        }
      },
      "execution_count": 2,
      "outputs": [
        {
          "output_type": "execute_result",
          "data": {
            "text/plain": [
              "2"
            ]
          },
          "metadata": {},
          "execution_count": 2
        }
      ]
    },
    {
      "cell_type": "code",
      "execution_count": 1,
      "outputs": [
        {
          "output_type": "execute_result",
          "data": {
            "text/plain": [
              "(1, 2, 3, 4, 5, 6)"
            ]
          },
          "metadata": {},
          "execution_count": 1
        }
      ],
      "source": [
        "\n",
        "\n",
        "a, b, c = (1, 2, 3)  # unpack a sequence into separate variables\n",
        "assert a == 1 and b == 2 and c == 3\n",
        "\n",
        "s1 = (1, 2, 3)\n",
        "s2 = (4, 5, 6)\n",
        "merged = (*s1, *s2)  # unpack the 2 sequences to add elements to a merged sequence\n",
        "merged"
      ],
      "metadata": {
        "ExecuteTime": {
          "end_time": "2023-12-26T03:14:36.894281Z",
          "start_time": "2023-12-26T03:14:36.891835Z"
        },
        "id": "UyK4tI5T5GE3",
        "outputId": "26d4229e-2058-49be-88a0-5daf441123a1",
        "colab": {
          "base_uri": "https://localhost:8080/"
        }
      }
    },
    {
      "cell_type": "markdown",
      "source": [
        "## New Python Syntax:  dict unpacking\n",
        "\n",
        "Similarly, we can \"unpack\" a map data structure (e.g., `dict`) using the `**` operator.\n",
        "\n",
        "We will see many uses for this syntax, but a handy one is to merge dictionaries together.\n",
        "Notice the dict merged in \"last\" overrides the value of keys defined by earlier dicts."
      ],
      "metadata": {
        "collapsed": false,
        "pycharm": {
          "name": "#%% md\n"
        },
        "id": "pRoAVBC-5GE3"
      }
    },
    {
      "cell_type": "code",
      "execution_count": null,
      "outputs": [
        {
          "data": {
            "text/plain": "{'a': 1, 'b': 2, 'c': 9, 'd': 8, 'e': 7}"
          },
          "execution_count": 29,
          "metadata": {},
          "output_type": "execute_result"
        }
      ],
      "source": [
        "d3 = dict(a=1, b=2, c=3)\n",
        "d4 = dict(c=9, d=8, e=7)  # note also contains key 'c'\n",
        "\n",
        "merged = {**d3, **d4}\n",
        "merged"
      ],
      "metadata": {
        "pycharm": {
          "name": "#%%\n"
        },
        "ExecuteTime": {
          "end_time": "2023-12-26T03:14:36.899002Z",
          "start_time": "2023-12-26T03:14:36.896287Z"
        },
        "id": "so8epY3P5GE3",
        "outputId": "0c5087af-0b08-4157-af26-70ec9a28402f"
      }
    },
    {
      "cell_type": "markdown",
      "source": [
        "## New built-in function:  zip()\n",
        "\n",
        "`zip()` is a very powerful function for transforming linear data structures.\n",
        "\n",
        "Think of it like a zipper - it takes 2 (or more) linear  sequences and \"zippers\" their elements together..."
      ],
      "metadata": {
        "collapsed": false,
        "id": "7fCuKu3o5GE4"
      }
    },
    {
      "cell_type": "code",
      "execution_count": null,
      "outputs": [
        {
          "data": {
            "text/plain": "[('a', 1), ('b', 2), ('c', 3), ('d', 4)]"
          },
          "execution_count": 30,
          "metadata": {},
          "output_type": "execute_result"
        }
      ],
      "source": [
        "t1 = ('a', 'b', 'c', 'd')\n",
        "t2 = (1, 2, 3, 4, 5)\n",
        "\n",
        "zippered = zip(t1, t2)\n",
        "list(zippered)   # notice that the length of the \"zipped\" tuples is bounded by the shortest input sequence"
      ],
      "metadata": {
        "ExecuteTime": {
          "end_time": "2023-12-26T03:14:36.902779Z",
          "start_time": "2023-12-26T03:14:36.900097Z"
        },
        "id": "YZJPS0uJ5GE4",
        "outputId": "6e31dd39-b9c0-4c3b-cbfa-5d9ec1c66cdd"
      }
    },
    {
      "cell_type": "markdown",
      "source": [
        "### Creating a dict from a list of 2-tuples\n",
        "Here's an example that transforms 2 tuples into a dictionary that maps values in the first tuple to the second!"
      ],
      "metadata": {
        "collapsed": false,
        "id": "7TQ8QSsf5GE5"
      }
    },
    {
      "cell_type": "code",
      "execution_count": null,
      "outputs": [
        {
          "data": {
            "text/plain": "{'a': 1, 'b': 2, 'c': 3, 'd': 4}"
          },
          "execution_count": 31,
          "metadata": {},
          "output_type": "execute_result"
        }
      ],
      "source": [
        "map = dict(zip(t1, t2))\n",
        "map"
      ],
      "metadata": {
        "ExecuteTime": {
          "end_time": "2023-12-26T03:14:36.909164Z",
          "start_time": "2023-12-26T03:14:36.902712Z"
        },
        "id": "-7U0W-Ut5GE5",
        "outputId": "fb0486b1-0c17-41ae-b9f8-1575bf7f042f"
      }
    },
    {
      "cell_type": "markdown",
      "source": [
        "... python's built-in types and functions provide a near endless variety of ways to merge, unpack, and transform data.  \n",
        "But it takes some practice to learn how to think about data transformations clearly, and harness python's power effectively."
      ],
      "metadata": {
        "collapsed": false,
        "id": "YbHBzHY05GE5"
      }
    }
  ],
  "metadata": {
    "kernelspec": {
      "display_name": "Python 3",
      "language": "python",
      "name": "python3"
    },
    "language_info": {
      "codemirror_mode": {
        "name": "ipython",
        "version": 2
      },
      "file_extension": ".py",
      "mimetype": "text/x-python",
      "name": "python",
      "nbconvert_exporter": "python",
      "pygments_lexer": "ipython2",
      "version": "2.7.6"
    },
    "colab": {
      "provenance": []
    }
  },
  "nbformat": 4,
  "nbformat_minor": 0
}