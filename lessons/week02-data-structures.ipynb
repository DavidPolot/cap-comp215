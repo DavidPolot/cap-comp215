{
  "nbformat": 4,
  "nbformat_minor": 0,
  "metadata": {
    "colab": {
      "name": "week2.ipynb",
      "provenance": [],
      "include_colab_link": true
    },
    "kernelspec": {
      "name": "python3",
      "display_name": "Python 3"
    },
    "language_info": {
      "name": "python"
    }
  },
  "cells": [
    {
      "cell_type": "markdown",
      "metadata": {
        "id": "view-in-github",
        "colab_type": "text"
      },
      "source": [
        "<a href=\"https://colab.research.google.com/github/DavidPolot/cap-comp215/blob/main/lessons/week02-data-structures.ipynb\" target=\"_parent\"><img src=\"https://colab.research.google.com/assets/colab-badge.svg\" alt=\"Open In Colab\"/></a>"
      ]
    },
    {
      "cell_type": "markdown",
      "source": [
        "# Sequence and Map data structures - Strings, Tuples, Lists, Dictionaries\n",
        "Our week 2 lesson workbook, available on Github from the powderflask/cap-comp215 repository.\n",
        "\n",
        "As usual, the first code block just imports the modules we will use."
      ],
      "metadata": {
        "id": "WBMC0GrjNRTM"
      }
    },
    {
      "cell_type": "code",
      "execution_count": null,
      "metadata": {
        "id": "C1a6aDXAM0WM"
      },
      "outputs": [],
      "source": [
        "import datetime\n",
        "import matplotlib.pyplot as plt\n",
        "import  matplotlib.dates as mdates\n",
        "from pprint import pprint"
      ]
    },
    {
      "cell_type": "markdown",
      "source": [
        "## f-strings\n",
        "A `string` is a sequence of characters / symbols.\n",
        "This familiar data structure is quite powerful, and format-strings (f-strings) take it to the next level...."
      ],
      "metadata": {
        "collapsed": false,
        "pycharm": {
          "name": "#%% md\n"
        },
        "id": "h6TYn2PbZOPY"
      }
    },
    {
      "cell_type": "code",
      "execution_count": null,
      "outputs": [
        {
          "output_type": "execute_result",
          "data": {
            "text/plain": [
              "'{today} is not special, but {the_answer} and {PI} are!'"
            ],
            "application/vnd.google.colaboratory.intrinsic+json": {
              "type": "string"
            }
          },
          "metadata": {},
          "execution_count": 40
        }
      ],
      "source": [
        "today = datetime.date.today()\n",
        "the_answer = 42\n",
        "PI = 3.1415926535\n",
        "\n",
        "'{today} is not special, but {the_answer} and {PI} are!'"
      ],
      "metadata": {
        "pycharm": {
          "name": "#%%\n"
        },
        "colab": {
          "base_uri": "https://localhost:8080/",
          "height": 35
        },
        "id": "f_g2gjd0ZOPZ",
        "outputId": "73c48c9f-8830-4aea-dc33-9c39b03adf53"
      }
    },
    {
      "cell_type": "markdown",
      "source": [
        "## List Comprehension\n",
        "Provides a compact syntax for two very common sequence-processing algorithms:  Map  and Filter\n",
        "\n",
        "Basic syntax:"
      ],
      "metadata": {
        "id": "k70NJ-JTNwYN"
      }
    },
    {
      "cell_type": "code",
      "source": [
        "#[f(x) for x in C if g(x)]\n",
        "\n",
        "[ i for i in range(100) if i%2 == 0]"
      ],
      "metadata": {
        "id": "HZSz8IftqJ72",
        "colab": {
          "base_uri": "https://localhost:8080/"
        },
        "outputId": "28a5a147-bf42-4679-fb87-a29b81652a6b"
      },
      "execution_count": null,
      "outputs": [
        {
          "output_type": "execute_result",
          "data": {
            "text/plain": [
              "[0,\n",
              " 2,\n",
              " 4,\n",
              " 6,\n",
              " 8,\n",
              " 10,\n",
              " 12,\n",
              " 14,\n",
              " 16,\n",
              " 18,\n",
              " 20,\n",
              " 22,\n",
              " 24,\n",
              " 26,\n",
              " 28,\n",
              " 30,\n",
              " 32,\n",
              " 34,\n",
              " 36,\n",
              " 38,\n",
              " 40,\n",
              " 42,\n",
              " 44,\n",
              " 46,\n",
              " 48,\n",
              " 50,\n",
              " 52,\n",
              " 54,\n",
              " 56,\n",
              " 58,\n",
              " 60,\n",
              " 62,\n",
              " 64,\n",
              " 66,\n",
              " 68,\n",
              " 70,\n",
              " 72,\n",
              " 74,\n",
              " 76,\n",
              " 78,\n",
              " 80,\n",
              " 82,\n",
              " 84,\n",
              " 86,\n",
              " 88,\n",
              " 90,\n",
              " 92,\n",
              " 94,\n",
              " 96,\n",
              " 98]"
            ]
          },
          "metadata": {},
          "execution_count": 41
        }
      ]
    },
    {
      "cell_type": "markdown",
      "source": [
        "### Map Algorithm\n",
        "Apply the same function to every item in another sequence (i.e., provide a \"mapping\" from the source sequence to the target"
      ],
      "metadata": {
        "collapsed": false,
        "pycharm": {
          "name": "#%% md\n"
        },
        "id": "E85i9SU2ZOPZ"
      }
    },
    {
      "cell_type": "code",
      "execution_count": null,
      "outputs": [
        {
          "output_type": "execute_result",
          "data": {
            "text/plain": [
              "[1, 4, 9, 16, 25, 36, 49, 64, 81, 100]"
            ]
          },
          "metadata": {},
          "execution_count": 42
        }
      ],
      "source": [
        "# Problem:  compute the first 10 natural squares\n",
        "\n",
        "[ i**2 for i in range(1,11)]"
      ],
      "metadata": {
        "pycharm": {
          "name": "#%%\n"
        },
        "colab": {
          "base_uri": "https://localhost:8080/"
        },
        "id": "1e1fjw6fZOPa",
        "outputId": "4fbca995-9a4d-478c-dadb-6dfc09b102aa"
      }
    },
    {
      "cell_type": "markdown",
      "source": [
        "### Filter\n",
        "Select a sub-set of the elements from another sequence based on some criteria."
      ],
      "metadata": {
        "collapsed": false,
        "pycharm": {
          "name": "#%% md\n"
        },
        "id": "4KNDv3vBZOPa"
      }
    },
    {
      "cell_type": "code",
      "execution_count": null,
      "outputs": [
        {
          "output_type": "execute_result",
          "data": {
            "text/plain": [
              "'o, e, i, u, o, o, i, a, e, o, e, e, u, a, i, i, i, e, i, e, o, e, i, u, o, e, o, i, i, i, u, u, a, o, e, e, o, o, e, a, a, a, i, u, a, e, i, a, i, i, e, i, a, u, i, o, u, e, e, i, a, i, o, u, a, o, a, o, i, i, i, u, a, i, u, i, e, e, a, o, o, o, o, e, u, a'"
            ],
            "application/vnd.google.colaboratory.intrinsic+json": {
              "type": "string"
            }
          },
          "metadata": {},
          "execution_count": 43
        }
      ],
      "source": [
        "VOWELS = 'aeiou'\n",
        "text = '''\n",
        "Lorem ipsum dolor sit amet, consectetur adipiscing elit, sed do eiusmod tempor incididunt ut labore et dolore magna aliqua. Ut enim ad minim veniam, quis nostrud exercitation ullamco laboris nisi ut aliquip ex ea commodo consequat.\n",
        "'''\n",
        "# Problem:  create a string with just the vowels from the text, in order.\n",
        "\n",
        "\n",
        "', '.join([letter for letter in text if letter in VOWELS])"
      ],
      "metadata": {
        "pycharm": {
          "name": "#%%\n"
        },
        "colab": {
          "base_uri": "https://localhost:8080/",
          "height": 88
        },
        "id": "RXqBzTyFZOPa",
        "outputId": "ade393b4-dc08-4bb7-cc60-8e30190ad020"
      }
    },
    {
      "cell_type": "markdown",
      "source": [
        "## Data Wrangling with List Comprehension\n",
        "E-learn's Live Quiz module does track quiz scores for each student, but does not store them in the gradebook,\n",
        "and it reports on them in the most useless way.\n",
        "\n",
        "Let's do some \"data wrangling\" to make sense out of this mess!\n",
        "\n",
        "### The Problem: Unstructured Data!\n",
        "Notice it is just a single large string!  The real data set has 36 students, and I need to do this every week!"
      ],
      "metadata": {
        "collapsed": false,
        "pycharm": {
          "name": "#%% md\n"
        },
        "id": "6BwMJiMJZOPa"
      }
    },
    {
      "cell_type": "code",
      "execution_count": null,
      "outputs": [
        {
          "output_type": "execute_result",
          "data": {
            "text/plain": [
              "'\\n  1.                 Ali Oop scored  7/ 8 = 87%\\n\\n\\n  2.          Alison Ralison scored  8/ 8 = 100%\\n\\n\\n  3.         Ambily Piturbed scored  8/ 8 = 100%\\n\\n\\n  4.  Arshan Risnot Farquared scored  5/ 8 = 62%\\n\\n\\n  5.       Ayushma Jugernaugh scored  5/ 8 = 62%\\n\\n\\n  6.       Brayden Labaguette scored  7/ 8 = 87%\\n'"
            ],
            "application/vnd.google.colaboratory.intrinsic+json": {
              "type": "string"
            }
          },
          "metadata": {},
          "execution_count": 44
        }
      ],
      "source": [
        "\"\"\"\n",
        "  1.                 Ali Oop scored  7/ 8 = 87%\n",
        "\n",
        "\n",
        "  2.          Alison Ralison scored  8/ 8 = 100%\n",
        "\n",
        "\n",
        "  3.         Ambily Piturbed scored  8/ 8 = 100%\n",
        "\n",
        "\n",
        "  4.  Arshan Risnot Farquared scored  5/ 8 = 62%\n",
        "\n",
        "\n",
        "  5.       Ayushma Jugernaugh scored  5/ 8 = 62%\n",
        "\n",
        "\n",
        "  6.       Brayden Labaguette scored  7/ 8 = 87%\n",
        "\"\"\""
      ],
      "metadata": {
        "pycharm": {
          "name": "#%%\n"
        },
        "colab": {
          "base_uri": "https://localhost:8080/",
          "height": 89
        },
        "id": "8T_6_pK2ZOPa",
        "outputId": "5d6de276-f852-4656-e1a3-c0109cb75c9b"
      }
    },
    {
      "cell_type": "markdown",
      "source": [
        "### Goal\n",
        "Turn this into structured data: a list of 2-tuples, each student's full name and their integer score."
      ],
      "metadata": {
        "collapsed": false,
        "pycharm": {
          "name": "#%% md\n"
        },
        "id": "0fPAdQBuZOPb"
      }
    },
    {
      "cell_type": "code",
      "execution_count": 70,
      "outputs": [
        {
          "output_type": "execute_result",
          "data": {
            "text/plain": [
              "[('Ali Oop', '7'),\n",
              " ('Alison Ralison', '8'),\n",
              " ('Ambily Piturbed', '8'),\n",
              " ('Arshan Risnot Farquared', '5'),\n",
              " ('Ayushma Jugernaugh', '5'),\n",
              " ('Brayden Labaguette', '7')]"
            ]
          },
          "metadata": {},
          "execution_count": 70
        }
      ],
      "source": [
        "score=\"\"\"\n",
        "  1.                 Ali Oop scored  7/ 8 = 87%\n",
        "\n",
        "\n",
        "  2.          Alison Ralison scored  8/ 8 = 100%\n",
        "\n",
        "\n",
        "  3.         Ambily Piturbed scored  8/ 8 = 100%\n",
        "\n",
        "\n",
        "  4.  Arshan Risnot Farquared scored  5/ 8 = 62%\n",
        "\n",
        "\n",
        "  5.       Ayushma Jugernaugh scored  5/ 8 = 62%\n",
        "\n",
        "\n",
        "  6.       Brayden Labaguette scored  7/ 8 = 87%\n",
        "\"\"\"\n",
        "\n",
        "students = [s.split() for s in score.split('\\n') if s]\n",
        "scores = [s[-4][:-1] for s in students]\n",
        "names = [' '.join(s[1:-5]) for s in students]\n",
        "\n",
        "list(zip(names, scores))\n",
        "\n",
        "\n"
      ],
      "metadata": {
        "pycharm": {
          "name": "#%%\n"
        },
        "colab": {
          "base_uri": "https://localhost:8080/"
        },
        "id": "9oah2RjrZOPb",
        "outputId": "3c07eaac-e8f9-4bfe-acde-04018c0c4aaf"
      }
    },
    {
      "cell_type": "markdown",
      "source": [
        "## Records\n",
        "A *record* is a compound data value - a collection of simpler data values (fields) that all describe a single entity.\n",
        "\n",
        " * tuple\n",
        " * dictionary\n",
        " * object\n",
        "\n",
        "Problem: develop the data representation for a `student` in a student record system,\n",
        "where a `student` has a first and last name, student id, and date of birth"
      ],
      "metadata": {
        "collapsed": false,
        "id": "A3gdp9T7ZOPb"
      }
    },
    {
      "cell_type": "code",
      "source": [
        "# Tuple\n",
        "\n",
        "# Dictionary\n",
        "\n",
        "# Object"
      ],
      "metadata": {
        "id": "Ai9qb3Bolw4h"
      },
      "execution_count": null,
      "outputs": []
    },
    {
      "cell_type": "code",
      "execution_count": 70,
      "outputs": [],
      "source": [
        "('Daffy', 'Duck', 123456789, '1948-03-21')\n",
        "\n",
        "{\n",
        " 'first' : 'Daffy'\n",
        "\n",
        "}\n",
        "\n",
        "\n",
        "\n"
      ],
      "metadata": {
        "pycharm": {
          "name": "#%%\n"
        },
        "id": "LnKKC6GoZOPb"
      }
    }
  ]
}